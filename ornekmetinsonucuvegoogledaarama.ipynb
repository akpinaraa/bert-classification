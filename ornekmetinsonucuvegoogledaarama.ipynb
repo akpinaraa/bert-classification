{
 "cells": [
  {
   "cell_type": "code",
   "execution_count": 1,
   "metadata": {},
   "outputs": [],
   "source": [
    "#from google.colab import drive\n",
    "#drive.mount('/content/drive')\n",
    "#google colab da çalıştırılacak olursa üsteki iki satırın aktifleştirip alttaki excel dosya okumanın pasifleştirilmesi gerek"
   ]
  },
  {
   "cell_type": "code",
   "execution_count": 2,
   "metadata": {},
   "outputs": [],
   "source": [
    "#paketlenmiş modelde(pickle) istenilen örnek ile sonucun elde edilmesi ve google da sonuta çıkan kategorinin aratılması"
   ]
  },
  {
   "cell_type": "code",
   "execution_count": 3,
   "metadata": {},
   "outputs": [
    {
     "name": "stdout",
     "output_type": "stream",
     "text": [
      "Requirement already satisfied: simpletransformers in c:\\users\\toshiba\\anaconda3\\envs\\core\\lib\\site-packages (0.63.7)\n",
      "Requirement already satisfied: requests in c:\\users\\toshiba\\anaconda3\\envs\\core\\lib\\site-packages (from simpletransformers) (2.28.1)\n",
      "Requirement already satisfied: transformers>=4.6.0 in c:\\users\\toshiba\\anaconda3\\envs\\core\\lib\\site-packages (from simpletransformers) (4.21.3)\n",
      "Requirement already satisfied: scikit-learn in c:\\users\\toshiba\\anaconda3\\envs\\core\\lib\\site-packages (from simpletransformers) (1.1.2)\n",
      "Requirement already satisfied: tensorboard in c:\\users\\toshiba\\anaconda3\\envs\\core\\lib\\site-packages (from simpletransformers) (2.10.0)\n",
      "Requirement already satisfied: scipy in c:\\users\\toshiba\\anaconda3\\envs\\core\\lib\\site-packages (from simpletransformers) (1.9.1)\n",
      "Requirement already satisfied: streamlit in c:\\users\\toshiba\\anaconda3\\envs\\core\\lib\\site-packages (from simpletransformers) (1.12.2)\n",
      "Requirement already satisfied: tqdm>=4.47.0 in c:\\users\\toshiba\\anaconda3\\envs\\core\\lib\\site-packages (from simpletransformers) (4.64.1)\n",
      "Requirement already satisfied: wandb>=0.10.32 in c:\\users\\toshiba\\anaconda3\\envs\\core\\lib\\site-packages (from simpletransformers) (0.13.3)\n",
      "Requirement already satisfied: pandas in c:\\users\\toshiba\\anaconda3\\envs\\core\\lib\\site-packages (from simpletransformers) (1.4.4)\n",
      "Requirement already satisfied: regex in c:\\users\\toshiba\\anaconda3\\envs\\core\\lib\\site-packages (from simpletransformers) (2022.8.17)\n",
      "Requirement already satisfied: seqeval in c:\\users\\toshiba\\anaconda3\\envs\\core\\lib\\site-packages (from simpletransformers) (1.2.2)\n",
      "Requirement already satisfied: tokenizers in c:\\users\\toshiba\\anaconda3\\envs\\core\\lib\\site-packages (from simpletransformers) (0.12.1)\n",
      "Requirement already satisfied: sentencepiece in c:\\users\\toshiba\\anaconda3\\envs\\core\\lib\\site-packages (from simpletransformers) (0.1.97)\n",
      "Requirement already satisfied: datasets in c:\\users\\toshiba\\anaconda3\\envs\\core\\lib\\site-packages (from simpletransformers) (2.4.0)\n",
      "Requirement already satisfied: numpy in c:\\users\\toshiba\\anaconda3\\envs\\core\\lib\\site-packages (from simpletransformers) (1.23.3)\n",
      "Requirement already satisfied: colorama in c:\\users\\toshiba\\anaconda3\\envs\\core\\lib\\site-packages (from tqdm>=4.47.0->simpletransformers) (0.4.5)\n",
      "Requirement already satisfied: filelock in c:\\users\\toshiba\\anaconda3\\envs\\core\\lib\\site-packages (from transformers>=4.6.0->simpletransformers) (3.8.0)\n",
      "Requirement already satisfied: huggingface-hub<1.0,>=0.1.0 in c:\\users\\toshiba\\anaconda3\\envs\\core\\lib\\site-packages (from transformers>=4.6.0->simpletransformers) (0.9.1)\n",
      "Requirement already satisfied: packaging>=20.0 in c:\\users\\toshiba\\anaconda3\\envs\\core\\lib\\site-packages (from transformers>=4.6.0->simpletransformers) (21.3)\n",
      "Requirement already satisfied: pyyaml>=5.1 in c:\\users\\toshiba\\anaconda3\\envs\\core\\lib\\site-packages (from transformers>=4.6.0->simpletransformers) (6.0)\n",
      "Requirement already satisfied: Click!=8.0.0,>=7.0 in c:\\users\\toshiba\\anaconda3\\envs\\core\\lib\\site-packages (from wandb>=0.10.32->simpletransformers) (8.1.3)\n",
      "Requirement already satisfied: sentry-sdk>=1.0.0 in c:\\users\\toshiba\\anaconda3\\envs\\core\\lib\\site-packages (from wandb>=0.10.32->simpletransformers) (1.9.8)\n",
      "Requirement already satisfied: six>=1.13.0 in c:\\users\\toshiba\\anaconda3\\envs\\core\\lib\\site-packages (from wandb>=0.10.32->simpletransformers) (1.16.0)\n",
      "Requirement already satisfied: protobuf<4.0dev,>=3.12.0 in c:\\users\\toshiba\\anaconda3\\envs\\core\\lib\\site-packages (from wandb>=0.10.32->simpletransformers) (3.19.4)\n",
      "Requirement already satisfied: setproctitle in c:\\users\\toshiba\\anaconda3\\envs\\core\\lib\\site-packages (from wandb>=0.10.32->simpletransformers) (1.3.2)\n",
      "Requirement already satisfied: pathtools in c:\\users\\toshiba\\anaconda3\\envs\\core\\lib\\site-packages (from wandb>=0.10.32->simpletransformers) (0.1.2)\n",
      "Requirement already satisfied: GitPython>=1.0.0 in c:\\users\\toshiba\\anaconda3\\envs\\core\\lib\\site-packages (from wandb>=0.10.32->simpletransformers) (3.1.27)\n",
      "Requirement already satisfied: psutil>=5.0.0 in c:\\users\\toshiba\\anaconda3\\envs\\core\\lib\\site-packages (from wandb>=0.10.32->simpletransformers) (5.9.0)\n",
      "Requirement already satisfied: docker-pycreds>=0.4.0 in c:\\users\\toshiba\\anaconda3\\envs\\core\\lib\\site-packages (from wandb>=0.10.32->simpletransformers) (0.4.0)\n",
      "Requirement already satisfied: shortuuid>=0.5.0 in c:\\users\\toshiba\\anaconda3\\envs\\core\\lib\\site-packages (from wandb>=0.10.32->simpletransformers) (1.0.9)\n",
      "Requirement already satisfied: promise<3,>=2.0 in c:\\users\\toshiba\\anaconda3\\envs\\core\\lib\\site-packages (from wandb>=0.10.32->simpletransformers) (2.3)\n",
      "Requirement already satisfied: setuptools in c:\\users\\toshiba\\anaconda3\\envs\\core\\lib\\site-packages (from wandb>=0.10.32->simpletransformers) (63.4.1)\n",
      "Requirement already satisfied: idna<4,>=2.5 in c:\\users\\toshiba\\anaconda3\\envs\\core\\lib\\site-packages (from requests->simpletransformers) (3.3)\n",
      "Requirement already satisfied: charset-normalizer<3,>=2 in c:\\users\\toshiba\\anaconda3\\envs\\core\\lib\\site-packages (from requests->simpletransformers) (2.1.1)\n",
      "Requirement already satisfied: urllib3<1.27,>=1.21.1 in c:\\users\\toshiba\\anaconda3\\envs\\core\\lib\\site-packages (from requests->simpletransformers) (1.26.12)\n",
      "Requirement already satisfied: certifi>=2017.4.17 in c:\\users\\toshiba\\anaconda3\\envs\\core\\lib\\site-packages (from requests->simpletransformers) (2022.6.15)\n",
      "Requirement already satisfied: fsspec[http]>=2021.11.1 in c:\\users\\toshiba\\anaconda3\\envs\\core\\lib\\site-packages (from datasets->simpletransformers) (2022.8.2)\n",
      "Requirement already satisfied: aiohttp in c:\\users\\toshiba\\anaconda3\\envs\\core\\lib\\site-packages (from datasets->simpletransformers) (3.8.1)\n",
      "Requirement already satisfied: pyarrow>=6.0.0 in c:\\users\\toshiba\\anaconda3\\envs\\core\\lib\\site-packages (from datasets->simpletransformers) (9.0.0)\n",
      "Requirement already satisfied: dill<0.3.6 in c:\\users\\toshiba\\anaconda3\\envs\\core\\lib\\site-packages (from datasets->simpletransformers) (0.3.5.1)\n",
      "Requirement already satisfied: responses<0.19 in c:\\users\\toshiba\\anaconda3\\envs\\core\\lib\\site-packages (from datasets->simpletransformers) (0.18.0)\n",
      "Requirement already satisfied: xxhash in c:\\users\\toshiba\\anaconda3\\envs\\core\\lib\\site-packages (from datasets->simpletransformers) (3.0.0)\n",
      "Requirement already satisfied: multiprocess in c:\\users\\toshiba\\anaconda3\\envs\\core\\lib\\site-packages (from datasets->simpletransformers) (0.70.13)\n",
      "Requirement already satisfied: python-dateutil>=2.8.1 in c:\\users\\toshiba\\anaconda3\\envs\\core\\lib\\site-packages (from pandas->simpletransformers) (2.8.2)\n",
      "Requirement already satisfied: pytz>=2020.1 in c:\\users\\toshiba\\anaconda3\\envs\\core\\lib\\site-packages (from pandas->simpletransformers) (2022.2.1)\n",
      "Requirement already satisfied: joblib>=1.0.0 in c:\\users\\toshiba\\anaconda3\\envs\\core\\lib\\site-packages (from scikit-learn->simpletransformers) (1.1.0)\n",
      "Requirement already satisfied: threadpoolctl>=2.0.0 in c:\\users\\toshiba\\anaconda3\\envs\\core\\lib\\site-packages (from scikit-learn->simpletransformers) (3.1.0)\n",
      "Requirement already satisfied: typing-extensions>=3.10.0.0 in c:\\users\\toshiba\\anaconda3\\envs\\core\\lib\\site-packages (from streamlit->simpletransformers) (4.3.0)\n",
      "Requirement already satisfied: tzlocal>=1.1 in c:\\users\\toshiba\\anaconda3\\envs\\core\\lib\\site-packages (from streamlit->simpletransformers) (4.2)\n",
      "Requirement already satisfied: tornado>=5.0 in c:\\users\\toshiba\\anaconda3\\envs\\core\\lib\\site-packages (from streamlit->simpletransformers) (6.2)\n",
      "Requirement already satisfied: pydeck>=0.1.dev5 in c:\\users\\toshiba\\anaconda3\\envs\\core\\lib\\site-packages (from streamlit->simpletransformers) (0.8.0b3)\n",
      "Requirement already satisfied: pympler>=0.9 in c:\\users\\toshiba\\anaconda3\\envs\\core\\lib\\site-packages (from streamlit->simpletransformers) (1.0.1)\n",
      "Requirement already satisfied: cachetools>=4.0 in c:\\users\\toshiba\\anaconda3\\envs\\core\\lib\\site-packages (from streamlit->simpletransformers) (5.2.0)\n",
      "Requirement already satisfied: validators>=0.2 in c:\\users\\toshiba\\anaconda3\\envs\\core\\lib\\site-packages (from streamlit->simpletransformers) (0.20.0)\n",
      "Requirement already satisfied: rich>=10.11.0 in c:\\users\\toshiba\\anaconda3\\envs\\core\\lib\\site-packages (from streamlit->simpletransformers) (12.5.1)\n",
      "Requirement already satisfied: semver in c:\\users\\toshiba\\anaconda3\\envs\\core\\lib\\site-packages (from streamlit->simpletransformers) (2.13.0)\n",
      "Requirement already satisfied: altair>=3.2.0 in c:\\users\\toshiba\\anaconda3\\envs\\core\\lib\\site-packages (from streamlit->simpletransformers) (4.2.0)\n",
      "Requirement already satisfied: importlib-metadata>=1.4 in c:\\users\\toshiba\\anaconda3\\envs\\core\\lib\\site-packages (from streamlit->simpletransformers) (4.12.0)\n",
      "Requirement already satisfied: watchdog in c:\\users\\toshiba\\anaconda3\\envs\\core\\lib\\site-packages (from streamlit->simpletransformers) (2.1.9)\n",
      "Requirement already satisfied: toml in c:\\users\\toshiba\\anaconda3\\envs\\core\\lib\\site-packages (from streamlit->simpletransformers) (0.10.2)\n",
      "Requirement already satisfied: pillow>=6.2.0 in c:\\users\\toshiba\\anaconda3\\envs\\core\\lib\\site-packages (from streamlit->simpletransformers) (9.2.0)\n",
      "Requirement already satisfied: blinker>=1.0.0 in c:\\users\\toshiba\\anaconda3\\envs\\core\\lib\\site-packages (from streamlit->simpletransformers) (1.5)\n",
      "Requirement already satisfied: absl-py>=0.4 in c:\\users\\toshiba\\anaconda3\\envs\\core\\lib\\site-packages (from tensorboard->simpletransformers) (1.2.0)\n",
      "Requirement already satisfied: google-auth<3,>=1.6.3 in c:\\users\\toshiba\\anaconda3\\envs\\core\\lib\\site-packages (from tensorboard->simpletransformers) (2.11.0)\n",
      "Requirement already satisfied: werkzeug>=1.0.1 in c:\\users\\toshiba\\anaconda3\\envs\\core\\lib\\site-packages (from tensorboard->simpletransformers) (2.2.2)\n",
      "Requirement already satisfied: google-auth-oauthlib<0.5,>=0.4.1 in c:\\users\\toshiba\\anaconda3\\envs\\core\\lib\\site-packages (from tensorboard->simpletransformers) (0.4.6)\n",
      "Requirement already satisfied: wheel>=0.26 in c:\\users\\toshiba\\anaconda3\\envs\\core\\lib\\site-packages (from tensorboard->simpletransformers) (0.37.1)\n",
      "Requirement already satisfied: tensorboard-plugin-wit>=1.6.0 in c:\\users\\toshiba\\anaconda3\\envs\\core\\lib\\site-packages (from tensorboard->simpletransformers) (1.8.1)\n",
      "Requirement already satisfied: tensorboard-data-server<0.7.0,>=0.6.0 in c:\\users\\toshiba\\anaconda3\\envs\\core\\lib\\site-packages (from tensorboard->simpletransformers) (0.6.1)\n",
      "Requirement already satisfied: grpcio>=1.24.3 in c:\\users\\toshiba\\anaconda3\\envs\\core\\lib\\site-packages (from tensorboard->simpletransformers) (1.48.1)\n",
      "Requirement already satisfied: markdown>=2.6.8 in c:\\users\\toshiba\\anaconda3\\envs\\core\\lib\\site-packages (from tensorboard->simpletransformers) (3.4.1)\n",
      "Requirement already satisfied: jinja2 in c:\\users\\toshiba\\anaconda3\\envs\\core\\lib\\site-packages (from altair>=3.2.0->streamlit->simpletransformers) (3.1.2)\n",
      "Requirement already satisfied: entrypoints in c:\\users\\toshiba\\anaconda3\\envs\\core\\lib\\site-packages (from altair>=3.2.0->streamlit->simpletransformers) (0.4)\n",
      "Requirement already satisfied: toolz in c:\\users\\toshiba\\anaconda3\\envs\\core\\lib\\site-packages (from altair>=3.2.0->streamlit->simpletransformers) (0.12.0)\n",
      "Requirement already satisfied: jsonschema>=3.0 in c:\\users\\toshiba\\anaconda3\\envs\\core\\lib\\site-packages (from altair>=3.2.0->streamlit->simpletransformers) (4.16.0)\n",
      "Requirement already satisfied: multidict<7.0,>=4.5 in c:\\users\\toshiba\\anaconda3\\envs\\core\\lib\\site-packages (from aiohttp->datasets->simpletransformers) (6.0.2)\n",
      "Requirement already satisfied: yarl<2.0,>=1.0 in c:\\users\\toshiba\\anaconda3\\envs\\core\\lib\\site-packages (from aiohttp->datasets->simpletransformers) (1.8.1)\n",
      "Requirement already satisfied: async-timeout<5.0,>=4.0.0a3 in c:\\users\\toshiba\\anaconda3\\envs\\core\\lib\\site-packages (from aiohttp->datasets->simpletransformers) (4.0.2)\n",
      "Requirement already satisfied: aiosignal>=1.1.2 in c:\\users\\toshiba\\anaconda3\\envs\\core\\lib\\site-packages (from aiohttp->datasets->simpletransformers) (1.2.0)\n",
      "Requirement already satisfied: attrs>=17.3.0 in c:\\users\\toshiba\\anaconda3\\envs\\core\\lib\\site-packages (from aiohttp->datasets->simpletransformers) (22.1.0)\n",
      "Requirement already satisfied: frozenlist>=1.1.1 in c:\\users\\toshiba\\anaconda3\\envs\\core\\lib\\site-packages (from aiohttp->datasets->simpletransformers) (1.3.1)\n",
      "Requirement already satisfied: gitdb<5,>=4.0.1 in c:\\users\\toshiba\\anaconda3\\envs\\core\\lib\\site-packages (from GitPython>=1.0.0->wandb>=0.10.32->simpletransformers) (4.0.9)\n",
      "Requirement already satisfied: pyasn1-modules>=0.2.1 in c:\\users\\toshiba\\anaconda3\\envs\\core\\lib\\site-packages (from google-auth<3,>=1.6.3->tensorboard->simpletransformers) (0.2.8)\n",
      "Requirement already satisfied: rsa<5,>=3.1.4 in c:\\users\\toshiba\\anaconda3\\envs\\core\\lib\\site-packages (from google-auth<3,>=1.6.3->tensorboard->simpletransformers) (4.9)\n",
      "Requirement already satisfied: requests-oauthlib>=0.7.0 in c:\\users\\toshiba\\anaconda3\\envs\\core\\lib\\site-packages (from google-auth-oauthlib<0.5,>=0.4.1->tensorboard->simpletransformers) (1.3.1)\n",
      "Requirement already satisfied: zipp>=0.5 in c:\\users\\toshiba\\anaconda3\\envs\\core\\lib\\site-packages (from importlib-metadata>=1.4->streamlit->simpletransformers) (3.8.1)\n",
      "Requirement already satisfied: pyparsing!=3.0.5,>=2.0.2 in c:\\users\\toshiba\\anaconda3\\envs\\core\\lib\\site-packages (from packaging>=20.0->transformers>=4.6.0->simpletransformers) (3.0.9)\n",
      "Requirement already satisfied: commonmark<0.10.0,>=0.9.0 in c:\\users\\toshiba\\anaconda3\\envs\\core\\lib\\site-packages (from rich>=10.11.0->streamlit->simpletransformers) (0.9.1)\n",
      "Requirement already satisfied: pygments<3.0.0,>=2.6.0 in c:\\users\\toshiba\\anaconda3\\envs\\core\\lib\\site-packages (from rich>=10.11.0->streamlit->simpletransformers) (2.11.2)\n",
      "Requirement already satisfied: tzdata in c:\\users\\toshiba\\anaconda3\\envs\\core\\lib\\site-packages (from tzlocal>=1.1->streamlit->simpletransformers) (2022.2)\n",
      "Requirement already satisfied: pytz-deprecation-shim in c:\\users\\toshiba\\anaconda3\\envs\\core\\lib\\site-packages (from tzlocal>=1.1->streamlit->simpletransformers) (0.1.0.post0)\n",
      "Requirement already satisfied: decorator>=3.4.0 in c:\\users\\toshiba\\anaconda3\\envs\\core\\lib\\site-packages (from validators>=0.2->streamlit->simpletransformers) (5.1.1)\n",
      "Requirement already satisfied: MarkupSafe>=2.1.1 in c:\\users\\toshiba\\anaconda3\\envs\\core\\lib\\site-packages (from werkzeug>=1.0.1->tensorboard->simpletransformers) (2.1.1)\n",
      "Requirement already satisfied: smmap<6,>=3.0.1 in c:\\users\\toshiba\\anaconda3\\envs\\core\\lib\\site-packages (from gitdb<5,>=4.0.1->GitPython>=1.0.0->wandb>=0.10.32->simpletransformers) (5.0.0)\n",
      "Requirement already satisfied: pyrsistent!=0.17.0,!=0.17.1,!=0.17.2,>=0.14.0 in c:\\users\\toshiba\\anaconda3\\envs\\core\\lib\\site-packages (from jsonschema>=3.0->altair>=3.2.0->streamlit->simpletransformers) (0.18.1)\n",
      "Requirement already satisfied: pyasn1<0.5.0,>=0.4.6 in c:\\users\\toshiba\\anaconda3\\envs\\core\\lib\\site-packages (from pyasn1-modules>=0.2.1->google-auth<3,>=1.6.3->tensorboard->simpletransformers) (0.4.8)\n",
      "Requirement already satisfied: oauthlib>=3.0.0 in c:\\users\\toshiba\\anaconda3\\envs\\core\\lib\\site-packages (from requests-oauthlib>=0.7.0->google-auth-oauthlib<0.5,>=0.4.1->tensorboard->simpletransformers) (3.2.0)\n",
      "Note: you may need to restart the kernel to use updated packages.\n"
     ]
    }
   ],
   "source": [
    "%pip install simpletransformers"
   ]
  },
  {
   "cell_type": "code",
   "execution_count": 4,
   "metadata": {},
   "outputs": [],
   "source": [
    "import pickle\n",
    "filename = 'D:\\\\\\\\AKINSOFT\\\\\\\\aysenurakpinar\\\\\\\\aysenurakpinarmodel\\\\\\\\finalized_model.sav'"
   ]
  },
  {
   "cell_type": "code",
   "execution_count": 5,
   "metadata": {},
   "outputs": [
    {
     "name": "stdout",
     "output_type": "stream",
     "text": [
      "Sağlık, sadece hastalık ve sakatlık durumunun olmayışı değil kişinin bedenen, ruhen ve sosyal yönden tam bir iyilik halidir. Dünya Sağlık Örgütü sağlığı, \"sadece hastalıkların ve rahatsızlıkların olmayışı değil, bir bütün olarak fiziki, ruhi ve sosyal açıdan iyi olma hali\" olarak açıklar.\n"
     ]
    }
   ],
   "source": [
    "örnek = \"\"\"Sağlık, sadece hastalık ve sakatlık durumunun olmayışı değil kişinin bedenen, ruhen ve sosyal yönden tam bir iyilik halidir. Dünya Sağlık Örgütü sağlığı, \"sadece hastalıkların ve rahatsızlıkların olmayışı değil, bir bütün olarak fiziki, ruhi ve sosyal açıdan iyi olma hali\" olarak açıklar.\"\"\"\n",
    "print(örnek)"
   ]
  },
  {
   "cell_type": "code",
   "execution_count": 6,
   "metadata": {},
   "outputs": [
    {
     "name": "stderr",
     "output_type": "stream",
     "text": [
      "c:\\Users\\TOSHIBA\\anaconda3\\envs\\core\\lib\\site-packages\\tqdm\\auto.py:22: TqdmWarning: IProgress not found. Please update jupyter and ipywidgets. See https://ipywidgets.readthedocs.io/en/stable/user_install.html\n",
      "  from .autonotebook import tqdm as notebook_tqdm\n",
      "100%|██████████| 1/1 [00:07<00:00,  7.22s/it]\n",
      "100%|██████████| 1/1 [00:00<00:00,  1.73it/s]"
     ]
    },
    {
     "name": "stdout",
     "output_type": "stream",
     "text": [
      "SAĞLIK\n"
     ]
    },
    {
     "name": "stderr",
     "output_type": "stream",
     "text": [
      "\n"
     ]
    }
   ],
   "source": [
    "def getTextInput():\n",
    "    global c\n",
    "loaded_model = pickle.load(open(filename, 'rb'))\n",
    "tahmin=loaded_model.predict([örnek])\n",
    "if tahmin[0] ==0:\n",
    "  c=\"Antropoloji\"\n",
    "  print(\"ANTROPOLOJİ\")\n",
    "elif tahmin[0]==1:\n",
    "  c=\"Arkeoloji\"\n",
    "  print(\"ARKEOLOJİ\")\n",
    "elif tahmin[0]==2:\n",
    "  c=\"Astronomi\"\n",
    "  print(\"ASTRONOMİ\")\n",
    "elif tahmin[0]==3:\n",
    "  c=\"Bilişim\"\n",
    "  print(\"BİLİŞİM\")\n",
    "elif tahmin[0]==4:\n",
    "  c=\"Biyoloji\"\n",
    "  print(\"BİYOLOJİ\")\n",
    "elif tahmin[0]==5:\n",
    "  c=\"Çevre Bilimleri\"\n",
    "  print(\"ÇEVRE BİLİMLERİ\")\n",
    "elif tahmin[0]==6:\n",
    "  c=\"Evrim\"\n",
    "  print(\"EVRİM\")\n",
    "elif tahmin[0]==7:\n",
    "  c=\"Felsefe\"\n",
    "  print(\"FELSEFE\") \n",
    "elif tahmin[0]==8:\n",
    "  c=\"Fizik\"\n",
    "  print(\"FİZİK\") \n",
    "elif tahmin[0]==9:\n",
    "  c=\"Kimya\"\n",
    "  print(\"KİMYA\") \n",
    "elif tahmin[0]==10:\n",
    "  c=\"Matematik\"\n",
    "  print(\"MATEMATİK\") \n",
    "elif tahmin[0]==11:\n",
    "  c=\"Nöroloji\"\n",
    "  print(\"NÖROLOJİ\") \n",
    "elif tahmin[0]==12:\n",
    "  c=\"Bilim ve Teknoloji\"\n",
    "  print(\"BİLİM VE TEKNOLOJİ\") \n",
    "elif tahmin[0]==13:\n",
    "  c=\"Ekonomi\"\n",
    "  print(\"EKONOMİ\") \n",
    "elif tahmin[0]==14:\n",
    "  c=\"Sağlık\"\n",
    "  print(\"SAĞLIK\") \n",
    "elif tahmin[0]==15:\n",
    "  c=\"Siyaset\"\n",
    "  print(\"SİYASET\") \n",
    "elif tahmin[0]==16:\n",
    "  c=\"Spor\"\n",
    "  print(\"SPOR\") \n",
    "elif tahmin[0]==17:\n",
    "  c=\"Psikoloji\"\n",
    "  print(\"PSİKOLOJİ\") \n",
    "elif tahmin[0]==18:\n",
    "  c=\"Sağlık Bilimleri\"\n",
    "  print(\"SAĞLIK BİLİMLERİ\") \n",
    "elif tahmin[0]==19:\n",
    "  c=\"Sosyoloji\"\n",
    "  print(\"SOSYOLOJİ\") \n",
    "elif tahmin[0]==20:\n",
    "  c=\"Tarih\"\n",
    "  print(\"TARİH\") \n",
    "elif tahmin[0]==21:\n",
    "  c=\"Teknoloji\"\n",
    "  print(\"TEKNOLOJİ\")\n",
    "else:\n",
    "  c=\"Yerbilimleri\"\n",
    "  print(\"YERBİLİMLERİ\")"
   ]
  },
  {
   "cell_type": "code",
   "execution_count": 8,
   "metadata": {},
   "outputs": [],
   "source": [
    "#çıkan sonuçların(örnek metin ve kategorisi) veri tabanına yazdırılması"
   ]
  },
  {
   "cell_type": "code",
   "execution_count": 9,
   "metadata": {},
   "outputs": [],
   "source": [
    "# import sqlite3 as lite\n",
    "# import sys\n",
    "\n",
    "# con = lite.connect('data1.db')\n",
    "\n",
    "# with con:\n",
    "    \n",
    "#     cur = con.cursor() \n",
    "#     cur.execute(\"DROP TABLE IF EXISTS SONUC_data\")\n",
    "#     cur.execute(\"CREATE TABLE SONUC_data(kategori TEXT, metin TEXT)\")"
   ]
  },
  {
   "cell_type": "code",
   "execution_count": 10,
   "metadata": {},
   "outputs": [],
   "source": [
    "#kategori     metin\n",
    "#  c          örnek\n",
    "\n",
    "# c = \"sdf\"\n",
    "# örnek = \"werw\"\n",
    "import sqlite3\n",
    "dbname='data1.db'#dbname='sensorsData.db'\n",
    "conn=sqlite3.connect(dbname)\n",
    "curs=conn.cursor()\n",
    "\n",
    "curs.execute(\"INSERT INTO SONUC_data values((?), (?))\", (c,örnek,)) #curs.execute(\"INSERT INTO SENSOR_data values(datetime('now'), (?))\", (data,))\n",
    "conn.commit()\n",
    "conn.close()"
   ]
  },
  {
   "cell_type": "code",
   "execution_count": 11,
   "metadata": {},
   "outputs": [],
   "source": [
    "import webbrowser"
   ]
  },
  {
   "cell_type": "code",
   "execution_count": 12,
   "metadata": {},
   "outputs": [],
   "source": [
    "def search_google(c):\n",
    "    term=c\n",
    "  \n",
    "    url = \"https://www.google.com.tr/search?q={}+hakkında+yazılar\".format(term)\n",
    "    webbrowser.open_new_tab(url)\n",
    "    "
   ]
  },
  {
   "cell_type": "code",
   "execution_count": 13,
   "metadata": {},
   "outputs": [],
   "source": [
    "#c = \"sağlık\"\n",
    "search_google(c)"
   ]
  }
 ],
 "metadata": {
  "kernelspec": {
   "display_name": "Python 3.9.13 ('core')",
   "language": "python",
   "name": "python3"
  },
  "language_info": {
   "codemirror_mode": {
    "name": "ipython",
    "version": 3
   },
   "file_extension": ".py",
   "mimetype": "text/x-python",
   "name": "python",
   "nbconvert_exporter": "python",
   "pygments_lexer": "ipython3",
   "version": "3.9.13"
  },
  "orig_nbformat": 4,
  "vscode": {
   "interpreter": {
    "hash": "c77eeb52e599c238ee3a65c99d56fd349c7ecf0167b8a1ce29614e799054a751"
   }
  }
 },
 "nbformat": 4,
 "nbformat_minor": 2
}
