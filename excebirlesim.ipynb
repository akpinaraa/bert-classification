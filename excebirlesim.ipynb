{
 "cells": [
  {
   "cell_type": "code",
   "execution_count": null,
   "metadata": {},
   "outputs": [],
   "source": [
    "import pandas as pd\n",
    "import glob\n",
    "\n",
    "# getting excel files to be merged from the Desktop \n",
    "path = \"D:\\AKINSOFT\\deneme\\exce\"\n",
    "\n",
    "# read all the files with extension .xlsx i.e. excel \n",
    "filenames = glob.glob(path + \"\\*.xlsx\")\n",
    "print('File names:', filenames)\n",
    "\n",
    "# empty data frame for the new output excel file with the merged excel files\n",
    "outputxlsx = pd.DataFrame()\n",
    "\n",
    "# for loop to iterate all excel files\n",
    "for file in filenames:\n",
    "   # using concat for excel files\n",
    "   # after reading them with read_excel()\n",
    "   df = pd.concat(pd.read_excel( file, sheet_name=None), ignore_index=True, sort=False)\n",
    "\n",
    "   # appending data of excel files\n",
    "   outputxlsx = outputxlsx.append( df, ignore_index=True)\n",
    "\n",
    "print('Final Excel sheet now generated at the same location:')\n",
    "outputxlsx.to_excel(\"D:\\AKINSOFT\\deneme\\excebirlesim\\Output.xlsx\", index=False)"
   ]
  }
 ],
 "metadata": {
  "language_info": {
   "name": "python"
  },
  "orig_nbformat": 4
 },
 "nbformat": 4,
 "nbformat_minor": 2
}
