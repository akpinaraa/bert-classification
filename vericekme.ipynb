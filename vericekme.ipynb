{
 "cells": [
  {
   "cell_type": "code",
   "execution_count": 1,
   "metadata": {},
   "outputs": [],
   "source": [
    "import requests\n",
    "from bs4 import BeautifulSoup\n",
    "import pandas as pd"
   ]
  },
  {
   "cell_type": "code",
   "execution_count": 2,
   "metadata": {},
   "outputs": [],
   "source": [
    "list_of_urls = ['https://bilimvegelecek.com.tr/index.php/category/antropoloji/page/1/',\n",
    " 'https://bilimvegelecek.com.tr/index.php/category/antropoloji/page/2/',\n",
    " 'https://bilimvegelecek.com.tr/index.php/category/antropoloji/page/3/',\n",
    " 'https://bilimvegelecek.com.tr/index.php/category/antropoloji/page/4/',\n",
    " 'https://bilimvegelecek.com.tr/index.php/category/antropoloji/page/5/',\n",
    " 'https://bilimvegelecek.com.tr/index.php/category/antropoloji/page/6/',\n",
    " 'https://bilimvegelecek.com.tr/index.php/category/antropoloji/page/7/',\n",
    " 'https://bilimvegelecek.com.tr/index.php/category/antropoloji/page/8/',\n",
    " 'https://bilimvegelecek.com.tr/index.php/category/antropoloji/page/9/',\n",
    " 'https://bilimvegelecek.com.tr/index.php/category/antropoloji/page/10/',\n",
    " 'https://bilimvegelecek.com.tr/index.php/category/antropoloji/page/11/',\n",
    " 'https://bilimvegelecek.com.tr/index.php/category/antropoloji/page/12/',\n",
    " 'https://bilimvegelecek.com.tr/index.php/category/antropoloji/page/13/',\n",
    " 'https://bilimvegelecek.com.tr/index.php/category/antropoloji/page/14/',\n",
    " 'https://bilimvegelecek.com.tr/index.php/category/antropoloji/page/15/',\n",
    " 'https://bilimvegelecek.com.tr/index.php/category/antropoloji/page/16/',\n",
    " 'https://bilimvegelecek.com.tr/index.php/category/antropoloji/page/17/',\n",
    " 'https://bilimvegelecek.com.tr/index.php/category/antropoloji/page/18/',\n",
    " 'https://bilimvegelecek.com.tr/index.php/category/antropoloji/page/19/',\n",
    " 'https://bilimvegelecek.com.tr/index.php/category/antropoloji/page/20/']"
   ]
  },
  {
   "cell_type": "code",
   "execution_count": 3,
   "metadata": {},
   "outputs": [],
   "source": [
    "\n",
    "liste = list()"
   ]
  },
  {
   "cell_type": "code",
   "execution_count": 4,
   "metadata": {},
   "outputs": [],
   "source": [
    "def icerik_bul(url,liste):\n",
    "    \n",
    "    #url = \"https://bilimvegelecek.com.tr/index.php/category/astronomi/page/2/\"\n",
    "    response = requests.get(url)\n",
    "    html_icerigi = response.content\n",
    "    soup = BeautifulSoup(html_icerigi,\"html.parser\")\n",
    "    baslik =soup.find_all(\"h3\",{\"class\":\"entry-title td-module-title\"})\n",
    "    metin =soup.find_all(\"div\",{\"class\":\"td-excerpt\"})\n",
    "    #liste = list()\n",
    "    for i in range(len(baslik)):\n",
    "        baslik[i] = (baslik[i].text).strip(\"\\n\").strip()\n",
    "        metin[i] = (metin[i].text).strip(\"\\n\").strip()\n",
    "        liste.append([baslik[i],metin[i]])\n",
    "    # df = pd.DataFrame(liste,columns = [\"Başlık\",\"Metin\"])\n",
    "    # print(df)\n",
    "    # liste = df.to_excel(\"excelnewfile.xlsx\")\n",
    "    return liste"
   ]
  },
  {
   "cell_type": "code",
   "execution_count": 5,
   "metadata": {},
   "outputs": [
    {
     "name": "stdout",
     "output_type": "stream",
     "text": [
      "                                                Başlık  \\\n",
      "0                  Avrupa’nın batısındaki Doğu Endülüs   \n",
      "1    Alexandre Dumas Babıâli’ye karşı  Sözde İskend...   \n",
      "2    Haçlı Seferleri’nin tarihsel sonuçları – 1 Sef...   \n",
      "3        ‘Yaratıcıya ihtiyacı olmayan’ bilim insanları   \n",
      "4    Dr. Hikmet Kıvılcımlı’ya göre Allah-Peygamber-...   \n",
      "..                                                 ...   \n",
      "195  Prof. Dr. Klaus Schmidt ile söyleşi  Son avcı-...   \n",
      "196                  Trakyalı filozoftan küçük öyküler   \n",
      "197  13. yüzyıl Anadolu devrimi, Avrupa Rönesansı, ...   \n",
      "198                           Türkler’in tarihe girişi   \n",
      "199     Hitit araştırmalarının kalbi Hattuşa’da atıyor   \n",
      "\n",
      "                                                 Metin  \n",
      "0    Fethedildiği dönemde İspanya düzensiz ve istik...  \n",
      "1    Babıâli 1862’den itibaren özellikle Arnavut kö...  \n",
      "2    Haçlı Seferleri, Avrupalılar için, kendilerind...  \n",
      "3    İnsanoğlu, Antik Ege filozoflarından bugüne, e...  \n",
      "4    Daha önceki bir yazımızda Hikmet Kıvılcımlı’nı...  \n",
      "..                                                 ...  \n",
      "195  12 binyıllık bir tarihi olan Göbekli Tepe, ins...  \n",
      "196  Bir kitap beni çok etkiledi. Rahmetli dedemin ...  \n",
      "197  13. yüzyıl süresince Anadolu halkı, işgalci Mo...  \n",
      "198  Sunuş\\r\\nDoktor Hikmet Kıvılcımlı, sadece Türk...  \n",
      "199  Hattuşa, daha 19. yüzyılda kendisini ziyaret e...  \n",
      "\n",
      "[200 rows x 2 columns]\n"
     ]
    }
   ],
   "source": [
    "for i in range(len(list_of_urls)):\n",
    "    url = list_of_urls[i]\n",
    "    \n",
    "    liste = icerik_bul(url,liste)\n",
    "df = pd.DataFrame(liste,columns = [\"Başlık\",\"Metin\"])\n",
    "print(df)\n",
    "liste = df.to_excel(\"excelnewfile.xlsx\")"
   ]
  },
  {
   "cell_type": "code",
   "execution_count": 6,
   "metadata": {},
   "outputs": [],
   "source": [
    "\n",
    "\n",
    "# url = \"https://bilimvegelecek.com.tr/index.php/category/astronomi/page/2/\"\n",
    "# response = requests.get(url)\n",
    "# html_icerigi = response.content\n",
    "# soup = BeautifulSoup(html_icerigi,\"html.parser\")\n",
    "\n",
    "# baslik =soup.find_all(\"h3\",{\"class\":\"entry-title td-module-title\"})\n",
    "# metin =soup.find_all(\"div\",{\"class\":\"td-excerpt\"})\n",
    "# liste = list()\n",
    "\n",
    "# for i in range(len(baslik)):\n",
    "#     baslik[i] = (baslik[i].text).strip(\"\\n\").strip()\n",
    "#     metin[i] = (metin[i].text).strip(\"\\n\").strip()\n",
    "#     liste.append([baslik[i],metin[i]])\n",
    "# df = pd.DataFrame(liste,columns = [\"Başlık\",\"Metin\"])\n",
    "# print(df)\n",
    "# liste = df.to_excel(\"excelnewfile.xlsx\")"
   ]
  }
 ],
 "metadata": {
  "kernelspec": {
   "display_name": "Python 3.9.13 ('core')",
   "language": "python",
   "name": "python3"
  },
  "language_info": {
   "codemirror_mode": {
    "name": "ipython",
    "version": 3
   },
   "file_extension": ".py",
   "mimetype": "text/x-python",
   "name": "python",
   "nbconvert_exporter": "python",
   "pygments_lexer": "ipython3",
   "version": "3.9.13"
  },
  "orig_nbformat": 4,
  "vscode": {
   "interpreter": {
    "hash": "c77eeb52e599c238ee3a65c99d56fd349c7ecf0167b8a1ce29614e799054a751"
   }
  }
 },
 "nbformat": 4,
 "nbformat_minor": 2
}
