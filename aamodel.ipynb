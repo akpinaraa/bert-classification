{
 "cells": [
  {
   "cell_type": "code",
   "execution_count": 1,
   "metadata": {},
   "outputs": [],
   "source": [
    "#from google.colab import drive\n",
    "#drive.mount('/content/drive')"
   ]
  },
  {
   "cell_type": "code",
   "execution_count": 2,
   "metadata": {},
   "outputs": [],
   "source": [
    "import numpy as np\n",
    "import pandas as pd"
   ]
  },
  {
   "cell_type": "code",
   "execution_count": 3,
   "metadata": {},
   "outputs": [
    {
     "name": "stdout",
     "output_type": "stream",
     "text": [
      "Note: you may need to restart the kernel to use updated packages.\n"
     ]
    },
    {
     "name": "stderr",
     "output_type": "stream",
     "text": [
      "ERROR: You must give at least one requirement to install (see \"pip help install\")\n"
     ]
    }
   ],
   "source": [
    "%pip install  "
   ]
  },
  {
   "cell_type": "code",
   "execution_count": 4,
   "metadata": {},
   "outputs": [
    {
     "name": "stderr",
     "output_type": "stream",
     "text": [
      "c:\\Users\\TOSHIBA\\anaconda3\\envs\\core\\lib\\site-packages\\tqdm\\auto.py:22: TqdmWarning: IProgress not found. Please update jupyter and ipywidgets. See https://ipywidgets.readthedocs.io/en/stable/user_install.html\n",
      "  from .autonotebook import tqdm as notebook_tqdm\n"
     ]
    }
   ],
   "source": [
    "from simpletransformers.classification import ClassificationModel"
   ]
  },
  {
   "cell_type": "code",
   "execution_count": 5,
   "metadata": {},
   "outputs": [],
   "source": [
    "import glob"
   ]
  },
  {
   "cell_type": "code",
   "execution_count": 24,
   "metadata": {},
   "outputs": [
    {
     "name": "stdout",
     "output_type": "stream",
     "text": [
      "File names: ['D:\\\\AKINSOFT\\\\aysenurakpinar\\\\Projem.xlsx']\n"
     ]
    }
   ],
   "source": [
    "path = \"D:\\\\AKINSOFT\\\\aysenurakpinar\"\n",
    "filenames = glob.glob(path + \"\\*.xlsx\")\n",
    "print('File names:', filenames)\n",
    "for file in filenames:\n",
    "    a = pd.concat(pd.read_excel( file, sheet_name=None), ignore_index=True, sort=False)"
   ]
  },
  {
   "cell_type": "code",
   "execution_count": 25,
   "metadata": {},
   "outputs": [],
   "source": [
    "#a=pd.read_excel(\"/content/drive/MyDrive/Bert/Projem.xlsx\")"
   ]
  },
  {
   "cell_type": "code",
   "execution_count": 26,
   "metadata": {},
   "outputs": [
    {
     "data": {
      "text/html": [
       "<div>\n",
       "<style scoped>\n",
       "    .dataframe tbody tr th:only-of-type {\n",
       "        vertical-align: middle;\n",
       "    }\n",
       "\n",
       "    .dataframe tbody tr th {\n",
       "        vertical-align: top;\n",
       "    }\n",
       "\n",
       "    .dataframe thead th {\n",
       "        text-align: right;\n",
       "    }\n",
       "</style>\n",
       "<table border=\"1\" class=\"dataframe\">\n",
       "  <thead>\n",
       "    <tr style=\"text-align: right;\">\n",
       "      <th></th>\n",
       "      <th>kategori</th>\n",
       "      <th>metin</th>\n",
       "    </tr>\n",
       "  </thead>\n",
       "  <tbody>\n",
       "    <tr>\n",
       "      <th>0</th>\n",
       "      <td>Antropoloji</td>\n",
       "      <td>Şu anda güneybatı Çin olarak tanımlanan coğraf...</td>\n",
       "    </tr>\n",
       "    <tr>\n",
       "      <th>1</th>\n",
       "      <td>Antropoloji</td>\n",
       "      <td>Arkeologlar, Avrupa’nın ilk Homo sapiens’inin ...</td>\n",
       "    </tr>\n",
       "    <tr>\n",
       "      <th>2</th>\n",
       "      <td>Antropoloji</td>\n",
       "      <td>81 yaşındaki, Sosyoloji Profesörü Orlando Patt...</td>\n",
       "    </tr>\n",
       "    <tr>\n",
       "      <th>3</th>\n",
       "      <td>Antropoloji</td>\n",
       "      <td>Yeni bir araştırmaya göre, Güneydoğu Avrupa'nı...</td>\n",
       "    </tr>\n",
       "    <tr>\n",
       "      <th>4</th>\n",
       "      <td>Antropoloji</td>\n",
       "      <td>1721 yılında Norveç'li bir misyoner, Viking at...</td>\n",
       "    </tr>\n",
       "    <tr>\n",
       "      <th>...</th>\n",
       "      <td>...</td>\n",
       "      <td>...</td>\n",
       "    </tr>\n",
       "    <tr>\n",
       "      <th>5695</th>\n",
       "      <td>Yerbilimleri</td>\n",
       "      <td>Görsel açıklaması: Uluslararası bilim ekibi, O...</td>\n",
       "    </tr>\n",
       "    <tr>\n",
       "      <th>5696</th>\n",
       "      <td>Yerbilimleri</td>\n",
       "      <td>Antarktika’da incelemeler yapan buzul bilimci ...</td>\n",
       "    </tr>\n",
       "    <tr>\n",
       "      <th>5697</th>\n",
       "      <td>Yerbilimleri</td>\n",
       "      <td>Anadolu yer sincabının coğrafi dağılımının içi...</td>\n",
       "    </tr>\n",
       "    <tr>\n",
       "      <th>5698</th>\n",
       "      <td>Yerbilimleri</td>\n",
       "      <td>21 Ağustos 1999 tarihinde Hürriyet gazetesinde...</td>\n",
       "    </tr>\n",
       "    <tr>\n",
       "      <th>5699</th>\n",
       "      <td>Yerbilimleri</td>\n",
       "      <td>İklim, hem Dünya’da hem de Türkiye’de değişti ...</td>\n",
       "    </tr>\n",
       "  </tbody>\n",
       "</table>\n",
       "<p>5700 rows × 2 columns</p>\n",
       "</div>"
      ],
      "text/plain": [
       "          kategori                                              metin\n",
       "0      Antropoloji  Şu anda güneybatı Çin olarak tanımlanan coğraf...\n",
       "1      Antropoloji  Arkeologlar, Avrupa’nın ilk Homo sapiens’inin ...\n",
       "2      Antropoloji  81 yaşındaki, Sosyoloji Profesörü Orlando Patt...\n",
       "3      Antropoloji  Yeni bir araştırmaya göre, Güneydoğu Avrupa'nı...\n",
       "4      Antropoloji  1721 yılında Norveç'li bir misyoner, Viking at...\n",
       "...            ...                                                ...\n",
       "5695  Yerbilimleri  Görsel açıklaması: Uluslararası bilim ekibi, O...\n",
       "5696  Yerbilimleri  Antarktika’da incelemeler yapan buzul bilimci ...\n",
       "5697  Yerbilimleri  Anadolu yer sincabının coğrafi dağılımının içi...\n",
       "5698  Yerbilimleri  21 Ağustos 1999 tarihinde Hürriyet gazetesinde...\n",
       "5699  Yerbilimleri  İklim, hem Dünya’da hem de Türkiye’de değişti ...\n",
       "\n",
       "[5700 rows x 2 columns]"
      ]
     },
     "execution_count": 26,
     "metadata": {},
     "output_type": "execute_result"
    }
   ],
   "source": [
    "a"
   ]
  },
  {
   "cell_type": "code",
   "execution_count": 27,
   "metadata": {},
   "outputs": [
    {
     "data": {
      "text/plain": [
       "array(['Antropoloji', 'Arkeoloji', 'Astronomi', 'Bilişim', 'Biyoloji',\n",
       "       'Çevre Bilimleri', 'Evrim', 'Felsefe', 'Fizik', 'Kimya',\n",
       "       'Matematik', 'Nöroloji', 'Bilim Ve Teknoloji', 'Ekonomi', 'Sağlık',\n",
       "       'Siyaset', 'Spor', 'Psikoloji', 'Sağlık Bilimleri', 'Sosyoloji',\n",
       "       'Tarih', 'Teknoloji', 'Yerbilimleri'], dtype=object)"
      ]
     },
     "execution_count": 27,
     "metadata": {},
     "output_type": "execute_result"
    }
   ],
   "source": [
    "a[\"kategori\"].unique()"
   ]
  },
  {
   "cell_type": "code",
   "execution_count": 28,
   "metadata": {},
   "outputs": [],
   "source": [
    "a['labels'] = pd.factorize(a.kategori)[0]"
   ]
  },
  {
   "cell_type": "code",
   "execution_count": 29,
   "metadata": {},
   "outputs": [],
   "source": [
    "from sklearn.model_selection import train_test_split\n",
    "\n",
    "train, test = train_test_split(a, test_size=0.2, random_state=42)"
   ]
  },
  {
   "cell_type": "code",
   "execution_count": 30,
   "metadata": {},
   "outputs": [],
   "source": [
    "train=train[[\"metin\",\"labels\"]]\n",
    "test=test[[\"metin\",\"labels\"]]"
   ]
  },
  {
   "cell_type": "code",
   "execution_count": 31,
   "metadata": {},
   "outputs": [],
   "source": [
    "#for bert text = string      label = int\n",
    "train[\"metin\"]=train[\"metin\"].apply(lambda r: str(r))\n",
    "train['labels']=train['labels'].astype(int)"
   ]
  },
  {
   "cell_type": "code",
   "execution_count": 32,
   "metadata": {},
   "outputs": [
    {
     "name": "stderr",
     "output_type": "stream",
     "text": [
      "Some weights of the model checkpoint at dbmdz/bert-base-turkish-uncased were not used when initializing BertForSequenceClassification: ['cls.seq_relationship.bias', 'cls.predictions.transform.LayerNorm.bias', 'cls.predictions.decoder.bias', 'cls.predictions.bias', 'cls.predictions.transform.LayerNorm.weight', 'cls.predictions.transform.dense.bias', 'cls.predictions.decoder.weight', 'cls.seq_relationship.weight', 'cls.predictions.transform.dense.weight']\n",
      "- This IS expected if you are initializing BertForSequenceClassification from the checkpoint of a model trained on another task or with another architecture (e.g. initializing a BertForSequenceClassification model from a BertForPreTraining model).\n",
      "- This IS NOT expected if you are initializing BertForSequenceClassification from the checkpoint of a model that you expect to be exactly identical (initializing a BertForSequenceClassification model from a BertForSequenceClassification model).\n",
      "Some weights of BertForSequenceClassification were not initialized from the model checkpoint at dbmdz/bert-base-turkish-uncased and are newly initialized: ['classifier.weight', 'classifier.bias']\n",
      "You should probably TRAIN this model on a down-stream task to be able to use it for predictions and inference.\n"
     ]
    }
   ],
   "source": [
    "model = ClassificationModel('bert', 'dbmdz/bert-base-turkish-uncased', num_labels=23, use_cuda=False,\n",
    "                            args={'reprocess_input_data': True, 'overwrite_output_dir': True, 'num_train_epochs': 3, \"train_batch_size\": 64 , \"fp16\":False, \"output_dir\": \"bert_model\"})"
   ]
  },
  {
   "cell_type": "code",
   "execution_count": 33,
   "metadata": {},
   "outputs": [
    {
     "name": "stderr",
     "output_type": "stream",
     "text": [
      "c:\\Users\\TOSHIBA\\anaconda3\\envs\\core\\lib\\site-packages\\simpletransformers\\classification\\classification_model.py:601: UserWarning: Dataframe headers not specified. Falling back to using column 0 as text and column 1 as labels.\n",
      "  warnings.warn(\n",
      "  0%|          | 10/4560 [00:11<1:28:31,  1.17s/it]\n",
      "c:\\Users\\TOSHIBA\\anaconda3\\envs\\core\\lib\\site-packages\\transformers\\optimization.py:306: FutureWarning: This implementation of AdamW is deprecated and will be removed in a future version. Use the PyTorch implementation torch.optim.AdamW instead, or set `no_deprecation_warning=True` to disable this warning\n",
      "  warnings.warn(\n",
      "Epochs 0/3. Running Loss:    1.2743: 100%|██████████| 72/72 [1:27:27<00:00, 72.89s/it]\n",
      "Epochs 1/3. Running Loss:    0.6289: 100%|██████████| 72/72 [1:28:28<00:00, 73.73s/it]\n",
      "Epochs 2/3. Running Loss:    0.6192: 100%|██████████| 72/72 [1:28:16<00:00, 73.57s/it]\n",
      "Epoch 3 of 3: 100%|██████████| 3/3 [4:24:39<00:00, 5293.18s/it]  \n"
     ]
    },
    {
     "data": {
      "text/plain": [
       "(216, 1.297636457339481)"
      ]
     },
     "execution_count": 33,
     "metadata": {},
     "output_type": "execute_result"
    }
   ],
   "source": [
    "model.train_model(train)"
   ]
  },
  {
   "cell_type": "code",
   "execution_count": 34,
   "metadata": {},
   "outputs": [
    {
     "name": "stderr",
     "output_type": "stream",
     "text": [
      "c:\\Users\\TOSHIBA\\anaconda3\\envs\\core\\lib\\site-packages\\simpletransformers\\classification\\classification_model.py:1442: UserWarning: Dataframe headers not specified. Falling back to using column 0 as text and column 1 as labels.\n",
      "  warnings.warn(\n",
      "  0%|          | 3/1140 [00:13<1:28:12,  4.66s/it]\n",
      "Running Evaluation: 100%|██████████| 143/143 [06:38<00:00,  2.79s/it]\n"
     ]
    }
   ],
   "source": [
    "result, model_outputs, wrong_predictions = model.eval_model(test)"
   ]
  },
  {
   "cell_type": "code",
   "execution_count": 36,
   "metadata": {},
   "outputs": [],
   "source": [
    "predictions = model_outputs.argmax(axis=1)"
   ]
  },
  {
   "cell_type": "code",
   "execution_count": 37,
   "metadata": {},
   "outputs": [],
   "source": [
    "actuals = test.labels.values"
   ]
  },
  {
   "cell_type": "code",
   "execution_count": 38,
   "metadata": {},
   "outputs": [
    {
     "data": {
      "text/plain": [
       "array([ 5,  6, 16,  2, 13,  2, 11, 10, 13, 16], dtype=int64)"
      ]
     },
     "execution_count": 38,
     "metadata": {},
     "output_type": "execute_result"
    }
   ],
   "source": [
    "predictions[:10]"
   ]
  },
  {
   "cell_type": "code",
   "execution_count": 39,
   "metadata": {},
   "outputs": [
    {
     "data": {
      "text/plain": [
       "array([ 8,  4, 16,  8, 13,  5,  9, 10, 13, 16], dtype=int64)"
      ]
     },
     "execution_count": 39,
     "metadata": {},
     "output_type": "execute_result"
    }
   ],
   "source": [
    "actuals[:10]"
   ]
  },
  {
   "cell_type": "code",
   "execution_count": 40,
   "metadata": {},
   "outputs": [
    {
     "data": {
      "text/plain": [
       "0.706140350877193"
      ]
     },
     "execution_count": 40,
     "metadata": {},
     "output_type": "execute_result"
    }
   ],
   "source": [
    "from sklearn.metrics import accuracy_score\n",
    "accuracy_score(actuals, predictions)"
   ]
  },
  {
   "cell_type": "code",
   "execution_count": 41,
   "metadata": {},
   "outputs": [
    {
     "name": "stdout",
     "output_type": "stream",
     "text": [
      "“Çoğu zaman şiddetin ne kadar yakınımızda olduğunun farkına bile varmayız, çünkü ondan kaçınmak için tavizler vermişizdir.”_x000D_\n",
      "_x000D_\n",
      "Julian Assange_x000D_\n",
      "_x000D_\n",
      "Dinleme skandalı gündemden düşmüyor. Geçtiğimiz hafta Alman basınında...\n"
     ]
    }
   ],
   "source": [
    "örnek = test.iloc[43]['metin']\n",
    "print(örnek)"
   ]
  },
  {
   "cell_type": "code",
   "execution_count": 42,
   "metadata": {},
   "outputs": [
    {
     "name": "stderr",
     "output_type": "stream",
     "text": [
      "100%|██████████| 1/1 [00:07<00:00,  7.38s/it]\n",
      "100%|██████████| 1/1 [00:00<00:00,  2.57it/s]"
     ]
    },
    {
     "name": "stdout",
     "output_type": "stream",
     "text": [
      "TARİH\n"
     ]
    },
    {
     "name": "stderr",
     "output_type": "stream",
     "text": [
      "\n"
     ]
    }
   ],
   "source": [
    "tahmin=model.predict([örnek])\n",
    "\n",
    "if tahmin[0] ==0:\n",
    "  print(\"ANTROPOLOJİ\")\n",
    "elif tahmin[0]==1:\n",
    "  print(\"ARKEOLOJİ\")\n",
    "elif tahmin[0]==2:\n",
    "  print(\"ASTRONOMİ\")\n",
    "elif tahmin[0]==3:\n",
    "  print(\"BİLİŞİM\")\n",
    "elif tahmin[0]==4:\n",
    "  print(\"BİYOLOJİ\")\n",
    "elif tahmin[0]==5:\n",
    "  print(\"ÇEVRE BİLİMLERİ\")\n",
    "elif tahmin[0]==6:\n",
    "  print(\"EVRİM\")\n",
    "elif tahmin[0]==7:\n",
    "  print(\"FELSEFE\") \n",
    "elif tahmin[0]==8:\n",
    "  print(\"FİZİK\") \n",
    "elif tahmin[0]==9:\n",
    "  print(\"KİMYA\") \n",
    "elif tahmin[0]==10:\n",
    "  print(\"MATEMATİK\") \n",
    "elif tahmin[0]==11:\n",
    "  print(\"NÖROLOJİ\") \n",
    "elif tahmin[0]==12:\n",
    "  print(\"BİLİM VE TEKNOLOJİ\") \n",
    "elif tahmin[0]==13:\n",
    "  print(\"EKONOMİ\") \n",
    "elif tahmin[0]==14:\n",
    "  print(\"SAĞLIK\") \n",
    "elif tahmin[0]==15:\n",
    "  print(\"SİYASET\") \n",
    "elif tahmin[0]==16:\n",
    "  print(\"SPOR\") \n",
    "elif tahmin[0]==17:\n",
    "  print(\"PSİKOLOJİ\") \n",
    "elif tahmin[0]==18:\n",
    "  print(\"SAĞLIK BİLİMLERİ\") \n",
    "elif tahmin[0]==19:\n",
    "  print(\"SOSYOLOJİ\") \n",
    "elif tahmin[0]==20:\n",
    "  print(\"TARİH\") \n",
    "elif tahmin[0]==21:\n",
    "  print(\"TEKNOLOJİ\")\n",
    "else:\n",
    "  print(\"YERBİLİMLERİ\")"
   ]
  },
  {
   "cell_type": "code",
   "execution_count": 43,
   "metadata": {},
   "outputs": [],
   "source": [
    "#deneme import\n",
    "#denemem=pd.read_excel(\"/content/drive/MyDrive/Bert/denemem.xlsx\",names=[\"kategori\",\"metin\"])"
   ]
  },
  {
   "cell_type": "code",
   "execution_count": 48,
   "metadata": {},
   "outputs": [
    {
     "name": "stdout",
     "output_type": "stream",
     "text": [
      "File names: ['D:\\\\AKINSOFT\\\\aysenurakpinar\\\\denemeversi\\\\denemem.xlsx']\n"
     ]
    }
   ],
   "source": [
    "path = \"D:\\\\AKINSOFT\\\\aysenurakpinar\\\\denemeversi\"\n",
    "filenames = glob.glob(path + \"\\*.xlsx\")\n",
    "print('File names:', filenames)\n",
    "for file in filenames:\n",
    "    denemem = pd.concat(pd.read_excel( file, sheet_name=None), ignore_index=True, sort=False)"
   ]
  },
  {
   "cell_type": "code",
   "execution_count": 49,
   "metadata": {},
   "outputs": [
    {
     "data": {
      "text/html": [
       "<div>\n",
       "<style scoped>\n",
       "    .dataframe tbody tr th:only-of-type {\n",
       "        vertical-align: middle;\n",
       "    }\n",
       "\n",
       "    .dataframe tbody tr th {\n",
       "        vertical-align: top;\n",
       "    }\n",
       "\n",
       "    .dataframe thead th {\n",
       "        text-align: right;\n",
       "    }\n",
       "</style>\n",
       "<table border=\"1\" class=\"dataframe\">\n",
       "  <thead>\n",
       "    <tr style=\"text-align: right;\">\n",
       "      <th></th>\n",
       "      <th>kategori</th>\n",
       "      <th>metin</th>\n",
       "    </tr>\n",
       "  </thead>\n",
       "  <tbody>\n",
       "    <tr>\n",
       "      <th>0</th>\n",
       "      <td>Spor</td>\n",
       "      <td>İngiltere Premier Lig'in 33. haftasında Liverp...</td>\n",
       "    </tr>\n",
       "    <tr>\n",
       "      <th>1</th>\n",
       "      <td>Siyaset</td>\n",
       "      <td>Çanakkale İl Genel Meclisi Başkanı ve AK Parti...</td>\n",
       "    </tr>\n",
       "    <tr>\n",
       "      <th>2</th>\n",
       "      <td>Siyaset</td>\n",
       "      <td>Ana muhalefet partisi CHP’nin 12 yıldır başarı...</td>\n",
       "    </tr>\n",
       "    <tr>\n",
       "      <th>3</th>\n",
       "      <td>Siyaset</td>\n",
       "      <td>CHP’nin seçimden seçime seçmenini hatırladığın...</td>\n",
       "    </tr>\n",
       "    <tr>\n",
       "      <th>4</th>\n",
       "      <td>Spor</td>\n",
       "      <td>Premier Lig'de 2017-2018 ve 2018-2019 sezonlar...</td>\n",
       "    </tr>\n",
       "    <tr>\n",
       "      <th>5</th>\n",
       "      <td>Spor</td>\n",
       "      <td>Süper Lig'de 37. hafta mücadelesinde Konyaspor...</td>\n",
       "    </tr>\n",
       "    <tr>\n",
       "      <th>6</th>\n",
       "      <td>Ekonomi</td>\n",
       "      <td>ABD Ticaret Bakanı Gina Raimondo da iklim deği...</td>\n",
       "    </tr>\n",
       "    <tr>\n",
       "      <th>7</th>\n",
       "      <td>Ekonomi</td>\n",
       "      <td>BD'nin ev sahipliğinde 40 ülke liderinin katıl...</td>\n",
       "    </tr>\n",
       "    <tr>\n",
       "      <th>8</th>\n",
       "      <td>Ekonomi</td>\n",
       "      <td>Artık birçok işletme, modellerinde gölge karbo...</td>\n",
       "    </tr>\n",
       "    <tr>\n",
       "      <th>9</th>\n",
       "      <td>Teknoloji</td>\n",
       "      <td>Apple dün gerçekleştirdiği etkinlikte M1 işlem...</td>\n",
       "    </tr>\n",
       "    <tr>\n",
       "      <th>10</th>\n",
       "      <td>Sağlık</td>\n",
       "      <td>Sağlık Bakanı Fahrettin Koca, Bilim Kurulu top...</td>\n",
       "    </tr>\n",
       "    <tr>\n",
       "      <th>11</th>\n",
       "      <td>Sağlık</td>\n",
       "      <td>Türkiye'de son 24 saatte 318 bin 839 Kovid-19 ...</td>\n",
       "    </tr>\n",
       "    <tr>\n",
       "      <th>12</th>\n",
       "      <td>Teknoloji</td>\n",
       "      <td>HMD Global bünyesinde çalışmalarını sürdüren N...</td>\n",
       "    </tr>\n",
       "  </tbody>\n",
       "</table>\n",
       "</div>"
      ],
      "text/plain": [
       "     kategori                                              metin\n",
       "0        Spor  İngiltere Premier Lig'in 33. haftasında Liverp...\n",
       "1     Siyaset  Çanakkale İl Genel Meclisi Başkanı ve AK Parti...\n",
       "2     Siyaset  Ana muhalefet partisi CHP’nin 12 yıldır başarı...\n",
       "3     Siyaset  CHP’nin seçimden seçime seçmenini hatırladığın...\n",
       "4        Spor  Premier Lig'de 2017-2018 ve 2018-2019 sezonlar...\n",
       "5        Spor  Süper Lig'de 37. hafta mücadelesinde Konyaspor...\n",
       "6     Ekonomi  ABD Ticaret Bakanı Gina Raimondo da iklim deği...\n",
       "7     Ekonomi  BD'nin ev sahipliğinde 40 ülke liderinin katıl...\n",
       "8     Ekonomi  Artık birçok işletme, modellerinde gölge karbo...\n",
       "9   Teknoloji  Apple dün gerçekleştirdiği etkinlikte M1 işlem...\n",
       "10     Sağlık  Sağlık Bakanı Fahrettin Koca, Bilim Kurulu top...\n",
       "11     Sağlık  Türkiye'de son 24 saatte 318 bin 839 Kovid-19 ...\n",
       "12  Teknoloji  HMD Global bünyesinde çalışmalarını sürdüren N..."
      ]
     },
     "execution_count": 49,
     "metadata": {},
     "output_type": "execute_result"
    }
   ],
   "source": [
    "denemem"
   ]
  },
  {
   "cell_type": "code",
   "execution_count": 50,
   "metadata": {},
   "outputs": [],
   "source": [
    "dene=denemem.iloc[3][\"metin\"]"
   ]
  },
  {
   "cell_type": "code",
   "execution_count": 51,
   "metadata": {},
   "outputs": [],
   "source": [
    "örnek=denemem.iloc[11][\"metin\"]"
   ]
  },
  {
   "cell_type": "code",
   "execution_count": 52,
   "metadata": {},
   "outputs": [
    {
     "name": "stderr",
     "output_type": "stream",
     "text": [
      "100%|██████████| 1/1 [00:07<00:00,  7.10s/it]\n",
      "100%|██████████| 1/1 [00:00<00:00,  2.93it/s]"
     ]
    },
    {
     "name": "stdout",
     "output_type": "stream",
     "text": [
      "SAĞLIK\n"
     ]
    },
    {
     "name": "stderr",
     "output_type": "stream",
     "text": [
      "\n"
     ]
    }
   ],
   "source": [
    "tahmin=model.predict([örnek])\n",
    "\n",
    "if tahmin[0] ==0:\n",
    "  print(\"ANTROPOLOJİ\")\n",
    "elif tahmin[0]==1:\n",
    "  print(\"ARKEOLOJİ\")\n",
    "elif tahmin[0]==2:\n",
    "  print(\"ASTRONOMİ\")\n",
    "elif tahmin[0]==3:\n",
    "  print(\"BİLİŞİM\")\n",
    "elif tahmin[0]==4:\n",
    "  print(\"BİYOLOJİ\")\n",
    "elif tahmin[0]==5:\n",
    "  print(\"ÇEVRE BİLİMLERİ\")\n",
    "elif tahmin[0]==6:\n",
    "  print(\"EVRİM\")\n",
    "elif tahmin[0]==7:\n",
    "  print(\"FELSEFE\") \n",
    "elif tahmin[0]==8:\n",
    "  print(\"FİZİK\") \n",
    "elif tahmin[0]==9:\n",
    "  print(\"KİMYA\") \n",
    "elif tahmin[0]==10:\n",
    "  print(\"MATEMATİK\") \n",
    "elif tahmin[0]==11:\n",
    "  print(\"NÖROLOJİ\") \n",
    "elif tahmin[0]==12:\n",
    "  print(\"BİLİM VE TEKNOLOJİ\") \n",
    "elif tahmin[0]==13:\n",
    "  print(\"EKONOMİ\") \n",
    "elif tahmin[0]==14:\n",
    "  print(\"SAĞLIK\") \n",
    "elif tahmin[0]==15:\n",
    "  print(\"SİYASET\") \n",
    "elif tahmin[0]==16:\n",
    "  print(\"SPOR\") \n",
    "elif tahmin[0]==17:\n",
    "  print(\"PSİKOLOJİ\") \n",
    "elif tahmin[0]==18:\n",
    "  print(\"SAĞLIK BİLİMLERİ\") \n",
    "elif tahmin[0]==19:\n",
    "  print(\"SOSYOLOJİ\") \n",
    "elif tahmin[0]==20:\n",
    "  print(\"TARİH\") \n",
    "elif tahmin[0]==21:\n",
    "  print(\"TEKNOLOJİ\")\n",
    "else:\n",
    "  print(\"YERBİLİMLERİ\")"
   ]
  },
  {
   "cell_type": "code",
   "execution_count": 55,
   "metadata": {},
   "outputs": [],
   "source": [
    "import pickle\n",
    "filename = 'D:\\\\AKINSOFT\\\\aysenurakpinar\\\\aysenurakpinarmodel\\\\finalized_model.sav'\n",
    "pickle.dump(model, open(filename, 'wb'))"
   ]
  }
 ],
 "metadata": {
  "kernelspec": {
   "display_name": "Python 3.9.13 ('core')",
   "language": "python",
   "name": "python3"
  },
  "language_info": {
   "codemirror_mode": {
    "name": "ipython",
    "version": 3
   },
   "file_extension": ".py",
   "mimetype": "text/x-python",
   "name": "python",
   "nbconvert_exporter": "python",
   "pygments_lexer": "ipython3",
   "version": "3.9.13"
  },
  "orig_nbformat": 4,
  "vscode": {
   "interpreter": {
    "hash": "c77eeb52e599c238ee3a65c99d56fd349c7ecf0167b8a1ce29614e799054a751"
   }
  }
 },
 "nbformat": 4,
 "nbformat_minor": 2
}
